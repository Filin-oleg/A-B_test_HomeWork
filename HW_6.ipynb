{
  "cells": [
    {
      "cell_type": "markdown",
      "metadata": {
        "id": "view-in-github",
        "colab_type": "text"
      },
      "source": [
        "<a href=\"https://colab.research.google.com/github/Filin-oleg/A-B_test_HomeWork/blob/main/HW_6.ipynb\" target=\"_parent\"><img src=\"https://colab.research.google.com/assets/colab-badge.svg\" alt=\"Open In Colab\"/></a>"
      ]
    },
    {
      "cell_type": "code",
      "execution_count": null,
      "metadata": {
        "id": "5Oe81T39Zy1-"
      },
      "outputs": [],
      "source": [
        "from statsmodels.stats.power import tt_ind_solve_power, zt_ind_solve_power\n",
        "from statsmodels.stats.proportion import proportion_effectsize\n",
        "from statsmodels.stats.meta_analysis import effectsize_smd\n",
        "from typing import Union\n",
        "import plotly.graph_objects as go\n",
        "from scipy import stats\n",
        "from math import asin\n",
        "import numpy as np"
      ]
    },
    {
      "cell_type": "markdown",
      "metadata": {
        "id": "PxKAYnvNZy2E"
      },
      "source": [
        "Продакт на главной mail.ru решил протестировать в рекомендательной ленте контента вместо карточек со статьями видеоплеер с короткими видео. Нынешний таймспент на юзера в день в среднем равен 25 минут, а стандартная ошибка (SD) равна 15. Мы предполагаем, что в новой версии таймспент на юзера в день изменится на 10% от текущего значения. Средний трафик  20000 человек в день. Посчитайте сколько дней необходимо держать эксперимент при alpha = 5% и beta = 20%."
      ]
    },
    {
      "cell_type": "code",
      "execution_count": null,
      "metadata": {
        "id": "12_K_EmIZy2G",
        "outputId": "d5122b96-1bd2-44f8-8e2e-dcdefcd93ee5"
      },
      "outputs": [
        {
          "data": {
            "text/plain": [
              "-0.15465700582340247"
            ]
          },
          "execution_count": 9,
          "metadata": {},
          "output_type": "execute_result"
        }
      ],
      "source": [
        "nobs = 20_000\n",
        "mean_1, mean_2 = 25, 27.5\n",
        "std_1, std_2 = 15, 15 * 1.15\n",
        "nobs_1, nobs_2 =10_000, 10_000\n",
        "effect_size = effectsize_smd(mean_1, std_1, nobs_1, mean_2, std_2, nobs_2 )[0]\n",
        "effect_size"
      ]
    },
    {
      "cell_type": "code",
      "execution_count": null,
      "metadata": {
        "id": "L9Xb6DwCZy2I"
      },
      "outputs": [],
      "source": [
        "def calc_sample_size_continuous(effect_size: float,\n",
        "                                alpha: float = .05,\n",
        "                                beta: float = .2,\n",
        "                                ratio: Union[float, int] = 1):\n",
        "    \n",
        "    n = tt_ind_solve_power(effect_size=effect_size,\n",
        "                           alpha=alpha,\n",
        "                           power=(1 - beta),\n",
        "                           ratio=ratio,\n",
        "                  )\n",
        "    return int(n * 2)"
      ]
    },
    {
      "cell_type": "code",
      "execution_count": null,
      "metadata": {
        "id": "Hz1cQ2e0Zy2J",
        "outputId": "fc890c6a-c2e7-4595-9d43-3d363edc76f5"
      },
      "outputs": [
        {
          "data": {
            "text/plain": [
              "1314"
            ]
          },
          "execution_count": 11,
          "metadata": {},
          "output_type": "execute_result"
        }
      ],
      "source": [
        "sample = calc_sample_size_continuous(effect_size=effect_size, alpha=.05, beta=.2)\n",
        "sample"
      ]
    },
    {
      "cell_type": "markdown",
      "metadata": {
        "id": "J-z8FrWJZy2L"
      },
      "source": [
        "Наша продуктовая команда в ecommerce магазине планирует запустить тест, направленный на ускорение загрузки сайта. Одна из основных метрик bounce rate в GA = 40%. Мы предполагаем, что при оптимизации сайта изменится минимум на 20% от текущего показателя.Средний трафик  4000 человек в день. Посчитайте сколько нам нужно дней держать эксперимент при alpha = 5% и beta = 20%\n"
      ]
    },
    {
      "cell_type": "code",
      "execution_count": null,
      "metadata": {
        "id": "vtwYXAGGZy2L",
        "outputId": "94bb023c-eafa-485f-f320-cdd969442b35"
      },
      "outputs": [
        {
          "name": "stdout",
          "output_type": "stream",
          "text": [
            "0.4 0.6\n"
          ]
        },
        {
          "data": {
            "text/plain": [
              "-0.40271584158066154"
            ]
          },
          "execution_count": 12,
          "metadata": {},
          "output_type": "execute_result"
        }
      ],
      "source": [
        "nobs = 4_000\n",
        "conv_1, conv_2 = 800, 1200\n",
        "nobs_1, nobs_2 = 2_000, 2_000\n",
        "prob_1, prob_2 = conv_1/nobs_1, conv_2/nobs_2\n",
        "effect_size = proportion_effectsize(prob_1, prob_2)\n",
        "print(prob_1, prob_2)\n",
        "effect_size\n",
        "\n"
      ]
    },
    {
      "cell_type": "code",
      "execution_count": null,
      "metadata": {
        "id": "jbcThIrqZy2N"
      },
      "outputs": [],
      "source": [
        "def calc_sample_size_proportion(effect_size: float,\n",
        "                                alpha: float = .05,\n",
        "                                beta: float = .2,\n",
        "                                ratio: Union[float, int] = 1):\n",
        "    \n",
        "    n = zt_ind_solve_power(effect_size=effect_size,\n",
        "                           alpha=alpha,\n",
        "                           power=(1 - beta),\n",
        "                           ratio=ratio,\n",
        "                  )\n",
        "    return int(n * 2)"
      ]
    },
    {
      "cell_type": "code",
      "execution_count": null,
      "metadata": {
        "id": "dPSG7mWYZy2N",
        "outputId": "b43fb099-3c06-4ca0-ce20-0e4603fd2028"
      },
      "outputs": [
        {
          "data": {
            "text/plain": [
              "193"
            ]
          },
          "execution_count": 14,
          "metadata": {},
          "output_type": "execute_result"
        }
      ],
      "source": [
        "sample = calc_sample_size_proportion(effect_size=effect_size, alpha = .05, beta = .2)\n",
        "sample"
      ]
    },
    {
      "cell_type": "markdown",
      "metadata": {
        "id": "csSx42I0Zy2O"
      },
      "source": []
    }
  ],
  "metadata": {
    "kernelspec": {
      "display_name": "Python 3",
      "language": "python",
      "name": "python3"
    },
    "language_info": {
      "codemirror_mode": {
        "name": "ipython",
        "version": 3
      },
      "file_extension": ".py",
      "mimetype": "text/x-python",
      "name": "python",
      "nbconvert_exporter": "python",
      "pygments_lexer": "ipython3",
      "version": "3.10.8"
    },
    "orig_nbformat": 4,
    "colab": {
      "provenance": [],
      "include_colab_link": true
    }
  },
  "nbformat": 4,
  "nbformat_minor": 0
}